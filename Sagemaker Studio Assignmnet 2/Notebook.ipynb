{
 "cells": [
  {
   "cell_type": "markdown",
   "metadata": {},
   "source": [
    "Assignment:\n",
    " \n",
    "Using SAGEMAKER STUDIO: \n",
    " \n",
    "**1) Write a notebook to read all CSV files in an S3 bucket** \n",
    "\n",
    "**2) Combine the files to read a single dataframe**\n",
    "\n",
    "3) Apply native AWS algorithms from Sagemaker using\n",
    "\n",
    "    a) Autopilot (automated ml)\n",
    "    b) A loop into multiple algorithms and compare them. Use parallelism for data and models.\n",
    "    \n",
    "4) Select the best algorithm\n",
    "\n",
    "5) Register the Model in Sagemaker\n",
    "\n",
    "6) Ensure you are NOT using a single machine but a cluster to leverage parallelism"
   ]
  },
  {
   "cell_type": "markdown",
   "metadata": {},
   "source": [
    "### Import Necessary Libraries"
   ]
  },
  {
   "cell_type": "code",
   "execution_count": 19,
   "metadata": {},
   "outputs": [],
   "source": [
    "import os\n",
    "import boto3\n",
    "\n",
    "from smart_open import smart_open\n",
    "\n",
    "import pandas as pd\n",
    "\n",
    "import sagemaker\n",
    "from sagemaker import get_execution_role"
   ]
  },
  {
   "cell_type": "code",
   "execution_count": 20,
   "metadata": {},
   "outputs": [],
   "source": [
    "s3_client = boto3.client('s3',\n",
    "                    aws_access_key_id= 'ACCESS__KEY_ID',\n",
    "                    aws_secret_access_key='SECRET_ACCESS_KEY')\n",
    "s3_bucket_name = 'BUCKET_NAME'\n",
    "s3 = boto3.resource('s3',\n",
    "                    aws_access_key_id= 'ACCESS__KEY_ID',\n",
    "                    aws_secret_access_key='SECRET_ACCESS_KEY')"
   ]
  },
  {
   "cell_type": "code",
   "execution_count": 21,
   "metadata": {},
   "outputs": [],
   "source": [
    "filename = 'random-data.csv'"
   ]
  },
  {
   "cell_type": "code",
   "execution_count": 22,
   "metadata": {
    "scrolled": true
   },
   "outputs": [
    {
     "name": "stdout",
     "output_type": "stream",
     "text": [
      "==============================\n",
      "csv/file1.csv\n",
      "==============================\n",
      "     x   y\n",
      "0   95  93\n",
      "1   15  84\n",
      "2   11  29\n",
      "3   53  95\n",
      "4   19  84\n",
      "..  ..  ..\n",
      "65  79  33\n",
      "66  87  60\n",
      "67  15  96\n",
      "68  46  17\n",
      "69   1  27\n",
      "\n",
      "[70 rows x 2 columns]\n",
      "==============================\n",
      "csv/file2.csv\n",
      "==============================\n",
      "       x    y\n",
      "0    932  431\n",
      "1    219  988\n",
      "2    974  972\n",
      "3    260  990\n",
      "4     65  561\n",
      "..   ...  ...\n",
      "245  356   25\n",
      "246  542  782\n",
      "247   79  290\n",
      "248  899  909\n",
      "249  197  788\n",
      "\n",
      "[250 rows x 2 columns]\n",
      "==============================\n",
      "csv/file3.csv\n",
      "==============================\n",
      "      x    y\n",
      "0   433  108\n",
      "1    83  518\n",
      "2   703  174\n",
      "3    99  168\n",
      "4   472  638\n",
      "5   742  654\n",
      "6   309   66\n",
      "7   427  326\n",
      "8   365   62\n",
      "9     2   86\n",
      "10  167  742\n",
      "11  118  569\n",
      "12  247  282\n",
      "13  572  187\n",
      "14  320  520\n",
      "15  177  142\n",
      "16  163  705\n",
      "17  394  433\n",
      "18  725  742\n",
      "19  408  463\n",
      "20  780  485\n",
      "21  666  151\n",
      "22  183  217\n",
      "23  328  692\n",
      "24  121  305\n",
      "25  454  287\n",
      "26  296  477\n",
      "27  395  553\n",
      "28  694  506\n",
      "29  219  441\n",
      "30  117  315\n",
      "31  600  529\n",
      "32  148  415\n",
      "33  539  201\n",
      "34  734  487\n",
      "35  660  741\n",
      "36   41  466\n",
      "37  629  223\n",
      "38  671   12\n",
      "39  425  573\n",
      "==============================\n",
      "csv/file4.csv\n",
      "==============================\n",
      "       x    y\n",
      "0    169  388\n",
      "1    330  407\n",
      "2    161  255\n",
      "3    430  444\n",
      "4     99  442\n",
      "..   ...  ...\n",
      "115  173   85\n",
      "116    4   15\n",
      "117  478  163\n",
      "118  126  405\n",
      "119  332  408\n",
      "\n",
      "[120 rows x 2 columns]\n",
      "==============================\n",
      "DATA OF ALL FILES COMBINED\n"
     ]
    }
   ],
   "source": [
    "my_bucket = s3.Bucket(s3_bucket_name)\n",
    "\n",
    "# combined_dataframe\n",
    "data = pd.DataFrame(columns = ['x', 'y'])\n",
    "\n",
    "for file in my_bucket.objects.filter(Prefix = 'csv/'):\n",
    "    file_name = file.key\n",
    "    if file_name.find(\".csv\") != -1:\n",
    "        obj = s3_client.get_object(\n",
    "            Bucket = s3_bucket_name,\n",
    "            Key = file_name\n",
    "        )\n",
    "        \n",
    "        print('='*30)\n",
    "        print(file_name)\n",
    "        print('='*30)\n",
    "        \n",
    "        this_file_data = pd.read_csv(obj['Body'])\n",
    "        data = data.append(this_file_data)\n",
    "\n",
    "        print(this_file_data)\n",
    "print('='*30)\n",
    "print(\"DATA OF ALL FILES COMBINED\")"
   ]
  },
  {
   "cell_type": "code",
   "execution_count": null,
   "metadata": {},
   "outputs": [],
   "source": [
    "# combined data\n",
    "data"
   ]
  },
  {
   "cell_type": "code",
   "execution_count": null,
   "metadata": {},
   "outputs": [],
   "source": [
    "data.to_csv(filename, header = False, index = False)"
   ]
  },
  {
   "cell_type": "code",
   "execution_count": null,
   "metadata": {},
   "outputs": [],
   "source": []
  }
 ],
 "metadata": {
  "kernelspec": {
   "display_name": "Python 3",
   "language": "python",
   "name": "python3"
  },
  "language_info": {
   "codemirror_mode": {
    "name": "ipython",
    "version": 3
   },
   "file_extension": ".py",
   "mimetype": "text/x-python",
   "name": "python",
   "nbconvert_exporter": "python",
   "pygments_lexer": "ipython3",
   "version": "3.8.5"
  }
 },
 "nbformat": 4,
 "nbformat_minor": 4
}
